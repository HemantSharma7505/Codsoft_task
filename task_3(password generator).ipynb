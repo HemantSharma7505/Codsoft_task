{
 "cells": [
  {
   "cell_type": "markdown",
   "id": "32ac5c4b-c3c4-4be3-b9ea-d1ba481f9eae",
   "metadata": {},
   "source": [
    "## PASSWORD GENERATOR"
   ]
  },
  {
   "cell_type": "code",
   "execution_count": null,
   "id": "47fb9f76-fd43-47e6-96e0-0642d63d861c",
   "metadata": {},
   "outputs": [],
   "source": [
    "import tkinter as tk\n",
    "import random\n",
    "import string\n",
    "\n",
    "def generate_password():\n",
    "    password_length = int(length_entry.get())\n",
    "    characters = string.ascii_letters + string.digits + string.punctuation\n",
    "    password = ''.join(random.choice(characters) for _ in range(password_length))\n",
    "    password_var.set(password)\n",
    "\n",
    "# Create the main window\n",
    "root = tk.Tk()\n",
    "root.title(\"Random Password Generator\")\n",
    "\n",
    "# Create and place widgets\n",
    "tk.Label(root, text=\"Password Length:\").pack(pady=10)\n",
    "length_entry = tk.Entry(root)\n",
    "length_entry.pack()\n",
    "\n",
    "generate_button = tk.Button(root, text=\"Generate Password\", command=generate_password)\n",
    "generate_button.pack(pady=10)\n",
    "\n",
    "password_var = tk.StringVar()\n",
    "password_label = tk.Label(root, textvariable=password_var)\n",
    "password_label.pack()\n",
    "\n",
    "root.mainloop()\n"
   ]
  },
  {
   "cell_type": "code",
   "execution_count": null,
   "id": "fce434a3-76b0-4a26-bcbb-d45ce1af912d",
   "metadata": {},
   "outputs": [],
   "source": []
  }
 ],
 "metadata": {
  "kernelspec": {
   "display_name": "Python 3 (ipykernel)",
   "language": "python",
   "name": "python3"
  },
  "language_info": {
   "codemirror_mode": {
    "name": "ipython",
    "version": 3
   },
   "file_extension": ".py",
   "mimetype": "text/x-python",
   "name": "python",
   "nbconvert_exporter": "python",
   "pygments_lexer": "ipython3",
   "version": "3.11.5"
  }
 },
 "nbformat": 4,
 "nbformat_minor": 5
}
