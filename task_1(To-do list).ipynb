{
 "cells": [
  {
   "cell_type": "markdown",
   "id": "edd57bca-2d4e-4235-943f-d419070436f3",
   "metadata": {},
   "source": [
    "# TO-DO LIST"
   ]
  },
  {
   "cell_type": "code",
   "execution_count": null,
   "id": "6e22bf30-a318-4671-a89c-20af8b3c4cde",
   "metadata": {},
   "outputs": [],
   "source": [
    "import tkinter as tk\n",
    "from tkinter import messagebox\n",
    "\n",
    "class ToDoListApp:\n",
    "    def __init__(self, root):\n",
    "        self.root = root\n",
    "        self.root.title(\"To-Do List\")\n",
    "\n",
    "        self.tasks = []\n",
    "\n",
    "        self.task_entry = tk.Entry(root)\n",
    "        self.task_entry.pack()\n",
    "\n",
    "        self.add_button = tk.Button(root, text=\"Add Task\", command=self.add_task)\n",
    "        self.add_button.pack()\n",
    "\n",
    "        self.task_listbox = tk.Listbox(root)\n",
    "        self.task_listbox.pack()\n",
    "\n",
    "        self.remove_button = tk.Button(root, text=\"Remove Task\", command=self.remove_task)\n",
    "        self.remove_button.pack()\n",
    "\n",
    "    def add_task(self):\n",
    "        task = self.task_entry.get()\n",
    "        if task:\n",
    "            self.tasks.append(task)\n",
    "            self.update_task_listbox()\n",
    "            self.task_entry.delete(0, \"end\")\n",
    "        else:\n",
    "            messagebox.showwarning(\"Warning\", \"Please enter a task.\")\n",
    "\n",
    "    def remove_task(self):\n",
    "        selected_indices = self.task_listbox.curselection()\n",
    "        if selected_indices:\n",
    "            for index in selected_indices:\n",
    "                self.tasks.pop(index)\n",
    "            self.update_task_listbox()\n",
    "        else:\n",
    "            messagebox.showwarning(\"Warning\", \"Please select a task to remove.\")\n",
    "\n",
    "    def update_task_listbox(self):\n",
    "        self.task_listbox.delete(0, \"end\")\n",
    "        for task in self.tasks:\n",
    "            self.task_listbox.insert(\"end\", task)\n",
    "\n",
    "def main():\n",
    "    root = tk.Tk()\n",
    "    app = ToDoListApp(root)\n",
    "    root.mainloop()\n",
    "\n",
    "if __name__ == \"__main__\":\n",
    "    main()\n"
   ]
  }
 ],
 "metadata": {
  "kernelspec": {
   "display_name": "Python 3 (ipykernel)",
   "language": "python",
   "name": "python3"
  },
  "language_info": {
   "codemirror_mode": {
    "name": "ipython",
    "version": 3
   },
   "file_extension": ".py",
   "mimetype": "text/x-python",
   "name": "python",
   "nbconvert_exporter": "python",
   "pygments_lexer": "ipython3",
   "version": "3.11.5"
  }
 },
 "nbformat": 4,
 "nbformat_minor": 5
}
